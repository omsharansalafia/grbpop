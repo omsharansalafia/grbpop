{
 "cells": [
  {
   "cell_type": "markdown",
   "id": "7fc4300b",
   "metadata": {},
   "source": [
    "# How to extract samples\n"
   ]
  },
  {
   "cell_type": "code",
   "execution_count": 1,
   "id": "385d3898",
   "metadata": {},
   "outputs": [
    {
     "name": "stderr",
     "output_type": "stream",
     "text": [
      "/Users/sjs8171/Desktop/grbpop/grbpop_test/grbpop/pflux.py:25: RuntimeWarning: divide by zero encountered in log10\n",
      "  Itp_Fermi_Comp = RegularGridInterpolator(points=(np.log10(z_grid),np.log10(Ep_grid),alpha_grid),values=np.nan_to_num(np.log10(pflux_L_Fermi_Comp)),bounds_error=False)\n",
      "/Users/sjs8171/Desktop/grbpop/grbpop_test/grbpop/pflux.py:26: RuntimeWarning: divide by zero encountered in log10\n",
      "  Itp_Swift_Comp = RegularGridInterpolator(points=(np.log10(z_grid),np.log10(Ep_grid),alpha_grid),values=np.nan_to_num(np.log10(pflux_L_Swift_Comp)),bounds_error=False)\n",
      "/Users/sjs8171/Desktop/grbpop/grbpop_test/grbpop/pdet.py:14: RuntimeWarning: divide by zero encountered in log10\n",
      "  Itp_pdet_ep_p64 = RegularGridInterpolator(points=(np.log10(ep_grid),np.log10(p64_grid)),values=np.nan_to_num(np.log10(pdet_ep_p64)),bounds_error=False,fill_value=-100.)\n"
     ]
    }
   ],
   "source": [
    "import numpy as np\n",
    "import matplotlib.pyplot as plt\n",
    "import sys\n",
    "sys.path.append('/Users/sjs8171/Desktop/grbpop/grbpop') # change this to the path of the directory \n",
    "                                                                    # that contains the grbpop package on your disk \n",
    "                                                                    # (only needed if it's not already in your \n",
    "                                                                    # PYTHONPATH environment variable)\n",
    "import grbpop\n",
    "from inspect_fit_results import read_chain"
   ]
  },
  {
   "cell_type": "code",
   "execution_count": 2,
   "id": "f7ead47e",
   "metadata": {},
   "outputs": [],
   "source": [
    "from grbpop.sampling import extract_lc_ep\n"
   ]
  },
  {
   "cell_type": "markdown",
   "id": "d27014dc",
   "metadata": {},
   "source": [
    "In the following blocks we extract samples of $L_c$ and $E_{p,c}$ and we plot the relative histograms. The population parameters are the default ones."
   ]
  },
  {
   "cell_type": "code",
   "execution_count": 3,
   "id": "d1be8e85",
   "metadata": {},
   "outputs": [],
   "source": [
    "samples = 100000\n",
    "lambda_pop = grbpop.Ppop.default_theta_pop # note that the hyper-parameter vector is called \"theta_pop\" \n",
    "                                           # in the code, but \"lambda_pop\" in the paper - sorry for the \n",
    "                                           # inconsistency!\n",
    "        \n",
    "l,ep = extract_lc_ep(lambda_pop['Lc*'],lambda_pop['A'],lambda_pop['Epc*'],lambda_pop['y'],lambda_pop['s_c'],samples)"
   ]
  },
  {
   "cell_type": "code",
   "execution_count": 4,
   "id": "09197787",
   "metadata": {},
   "outputs": [
    {
     "data": {
      "text/plain": [
       "Text(0.5, 0, '$\\\\log_{10}[L_c(erg/s)]$')"
      ]
     },
     "execution_count": 4,
     "metadata": {},
     "output_type": "execute_result"
    },
    {
     "data": {
      "image/png": "[encoded data removed]",
      "text/plain": [
       "<Figure size 432x288 with 1 Axes>"
      ]
     },
     "metadata": {
      "needs_background": "light"
     },
     "output_type": "display_data"
    }
   ],
   "source": [
    "plt.hist(np.log10(l), bins=30, edgecolor='black', histtype='step', linewidth=1.5)\n",
    "plt.yscale('log')\n",
    "plt.xlabel('$\\log_{10}[L_c(erg/s)]$')"
   ]
  },
  {
   "cell_type": "code",
   "execution_count": 5,
   "id": "9dcee7d3",
   "metadata": {},
   "outputs": [
    {
     "data": {
      "text/plain": [
       "Text(0.5, 0, '$\\\\log_{10}[E_p(keV)]$')"
      ]
     },
     "execution_count": 5,
     "metadata": {},
     "output_type": "execute_result"
    },
    {
     "data": {
      "image/png": "[encoded data removed]",
      "text/plain": [
       "<Figure size 432x288 with 1 Axes>"
      ]
     },
     "metadata": {
      "needs_background": "light"
     },
     "output_type": "display_data"
    }
   ],
   "source": [
    "plt.hist(np.log10(ep), bins=30, edgecolor='black', histtype='step', linewidth=1.5)\n",
    "plt.yscale('log')\n",
    "plt.xlabel('$\\log_{10}[E_p(keV)]$')"
   ]
  },
  {
   "cell_type": "markdown",
   "id": "44510d47",
   "metadata": {},
   "source": [
    "We now produce the posterior distribution of the luminosity and $E_p$ angular profiles. The results is obtained extracting, for each angle, the hyperparameters and the L and $E_p$ parameters themselves."
   ]
  },
  {
   "cell_type": "code",
   "execution_count": 6,
   "id": "a4412f3a",
   "metadata": {},
   "outputs": [
    {
     "name": "stdout",
     "output_type": "stream",
     "text": [
      "30\n"
     ]
    }
   ],
   "source": [
    "chain = './chains/SGRB_GBM_pdetgbm_final_newsample.h5'\n",
    "chain2 = './chains/SGRB_flux-limited-sample-analysis.h5'\n",
    "thin = 3\n",
    "x,ll = read_chain(chain,burnin_fraction=0.5,thin=thin)\n",
    "specmodel = 'Comp'\n",
    "alpha = -0.4\n",
    "inst = 'Fermi'\n",
    "\n",
    "num =500\n",
    "\n",
    "theta_sam = np.logspace(np.log10(0.5*np.pi/180.),np.log10(np.pi/2.),num=30)\n",
    "print(len(theta_sam))\n",
    "l_samples = [[] for _ in range(30)]\n",
    "ep_samples = [[] for _ in range(30)]\n",
    "\n",
    "out_samples = num\n",
    "\n",
    "for i in range(out_samples):\n",
    "    \n",
    "    theta_pop = {'jetmodel':'smooth double power law',\n",
    "             'thc':10**x[i,0],\n",
    "             'Lc*':10**x[i,1],\n",
    "             'a_L':x[i,2],\n",
    "             'b_L':x[i,3],\n",
    "             'Epc*':10**x[i,4],\n",
    "             'a_Ep':x[i,5],\n",
    "             'b_Ep':x[i,6],\n",
    "             'thw':10**x[i,7],\n",
    "             'A':x[i,8],\n",
    "             's_c':10**x[i,9],\n",
    "             'y':x[i,10],\n",
    "             'a':x[i,11],\n",
    "             'b':x[i,12],\n",
    "             'zp':x[i,13]\n",
    "             }\n",
    "    \n",
    "    l,ep = extract_lc_ep(theta_pop['Lc*'],theta_pop['A'],theta_pop['Epc*'],theta_pop['y'],theta_pop['s_c'],1000)\n",
    "    \n",
    "    for n in range(len(theta_sam)):\n",
    "        \n",
    "\n",
    "        th = theta_sam[n]\n",
    "\n",
    "        tildeL = l*grbpop.structjet.ell(th,theta_pop)\n",
    "        tildeEp = ep*grbpop.structjet.eta(th,theta_pop)\n",
    "        \n",
    "        l_samples[n].extend(tildeL)\n",
    "        ep_samples[n].extend(tildeEp)\n",
    "        \n"
   ]
  },
  {
   "cell_type": "code",
   "execution_count": 7,
   "id": "aebe8be9",
   "metadata": {},
   "outputs": [
    {
     "data": {
      "text/plain": [
       "Text(0.5, 0, '$\\\\log_{10}[theta_v(deg)]$')"
      ]
     },
     "execution_count": 7,
     "metadata": {},
     "output_type": "execute_result"
    },
    {
     "data": {
      "image/png": "[encoded data removed]",
      "text/plain": [
       "<Figure size 432x288 with 1 Axes>"
      ]
     },
     "metadata": {
      "needs_background": "light"
     },
     "output_type": "display_data"
    }
   ],
   "source": [
    "perc_16 = []\n",
    "perc_84 = []\n",
    "\n",
    "perc_5 = []\n",
    "perc_95 = []\n",
    "\n",
    "for i in range(len(theta_sam)):\n",
    "    th = theta_sam[i]\n",
    "    perc_16.append(np.percentile(l_samples[i],16))\n",
    "    perc_84.append(np.percentile(l_samples[i],84))\n",
    "    perc_5.append(np.percentile(l_samples[i],5))\n",
    "    perc_95.append(np.percentile(l_samples[i],95))    \n",
    "    \n",
    "plt.fill_between(theta_sam*180/np.pi,perc_16,perc_84, alpha=0.5)\n",
    "plt.fill_between(theta_sam*180/np.pi,perc_5,perc_95, alpha=0.5)\n",
    "plt.xscale('log')\n",
    "plt.yscale('log')\n",
    "plt.ylabel('$L_c(erg/s)$')\n",
    "plt.xlabel('$\\log_{10}[theta_v(deg)]$')"
   ]
  },
  {
   "cell_type": "code",
   "execution_count": 8,
   "id": "80289f99",
   "metadata": {},
   "outputs": [
    {
     "data": {
      "text/plain": [
       "Text(0.5, 0, '$\\\\log_{10}[theta_v(deg)]$')"
      ]
     },
     "execution_count": 8,
     "metadata": {},
     "output_type": "execute_result"
    },
    {
     "data": {
      "image/png": "[encoded data removed]",
      "text/plain": [
       "<Figure size 432x288 with 1 Axes>"
      ]
     },
     "metadata": {
      "needs_background": "light"
     },
     "output_type": "display_data"
    }
   ],
   "source": [
    "perc_16 = []\n",
    "perc_84 = []\n",
    "\n",
    "perc_5 = []\n",
    "perc_95 = []\n",
    "\n",
    "for i in range(len(theta_sam)):\n",
    "    th = theta_sam[i]\n",
    "    perc_16.append(np.percentile(ep_samples[i],16))\n",
    "    perc_84.append(np.percentile(ep_samples[i],84))\n",
    "    perc_5.append(np.percentile(ep_samples[i],5))\n",
    "    perc_95.append(np.percentile(ep_samples[i],95))    \n",
    "    \n",
    "plt.fill_between(theta_sam*180/np.pi,perc_16,perc_84, alpha=0.5)\n",
    "plt.fill_between(theta_sam*180/np.pi,perc_5,perc_95, alpha=0.5)\n",
    "plt.xscale('log')\n",
    "plt.yscale('log')\n",
    "plt.ylabel('$E_p(keV)$')\n",
    "plt.xlabel('$\\log_{10}[theta_v(deg)]$')"
   ]
  },
  {
   "cell_type": "markdown",
   "id": "c2b24826",
   "metadata": {},
   "source": [
    "The following block computes the probability distribution of the peak flux and the detection probability, having fixed distance, inclination angle and limiting flux of the instrument."
   ]
  },
  {
   "cell_type": "code",
   "execution_count": 9,
   "id": "8b262610",
   "metadata": {},
   "outputs": [],
   "source": [
    "from grbpop.sampling import p_flux_samples\n",
    "\n",
    "chain = './chains/SGRB_GBM_pdetgbm_final_newsample.h5'\n",
    "chain2 = './chains/SGRB_flux-limited-sample-analysis.h5'\n",
    "thin = 3\n",
    "x,ll = read_chain(chain,burnin_fraction=0.5,thin=thin)\n",
    "specmodel = 'Comp'\n",
    "alpha = -0.4\n",
    "inst = 'Fermi'\n",
    "num=100\n",
    "\n",
    "f = p_flux_samples(0.01,20*np.pi/180,x, alpha, specmodel, inst, num)\n",
    "\n"
   ]
  },
  {
   "cell_type": "code",
   "execution_count": 10,
   "id": "c15f796a",
   "metadata": {},
   "outputs": [
    {
     "name": "stdout",
     "output_type": "stream",
     "text": [
      "The detection probability is 49.366 %\n"
     ]
    },
    {
     "data": {
      "text/plain": [
       "Text(0.5, 0, '$\\\\log_{10}[\\\\rm pf(ph/cm^2 s)]$')"
      ]
     },
     "execution_count": 10,
     "metadata": {},
     "output_type": "execute_result"
    },
    {
     "data": {
      "image/png": "[encoded data removed]",
      "text/plain": [
       "<Figure size 432x288 with 1 Axes>"
      ]
     },
     "metadata": {
      "needs_background": "light"
     },
     "output_type": "display_data"
    }
   ],
   "source": [
    "\n",
    "\n",
    "plim = 3.5\n",
    "\n",
    "det_prob = np.sum(f > plim)/len(f)\n",
    "\n",
    "print('The detection probability is %s %%' %(det_prob*100))\n",
    "\n",
    "\n",
    "plt.hist(np.log10(f), bins=30, edgecolor='black', histtype='step', linewidth=1.5)\n",
    "plt.axvline(np.log10(plim))\n",
    "plt.yscale('log')\n",
    "plt.xlabel('$\\log_{10}[\\\\rm pf(ph/cm^2 s)]$')\n",
    "\n"
   ]
  },
  {
   "cell_type": "code",
   "execution_count": null,
   "id": "40179103",
   "metadata": {},
   "outputs": [],
   "source": []
  }
 ],
 "metadata": {
  "kernelspec": {
   "display_name": "Python 3 (ipykernel)",
   "language": "python",
   "name": "python3"
  },
  "language_info": {
   "codemirror_mode": {
    "name": "ipython",
    "version": 3
   },
   "file_extension": ".py",
   "mimetype": "text/x-python",
   "name": "python",
   "nbconvert_exporter": "python",
   "pygments_lexer": "ipython3",
   "version": "3.9.16"
  }
 },
 "nbformat": 4,
 "nbformat_minor": 5
}
